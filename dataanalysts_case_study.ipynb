{
  "nbformat": 4,
  "nbformat_minor": 0,
  "metadata": {
    "colab": {
      "provenance": []
    },
    "kernelspec": {
      "name": "python3",
      "display_name": "Python 3"
    },
    "language_info": {
      "name": "python"
    }
  },
  "cells": [
    {
      "cell_type": "code",
      "execution_count": 4,
      "metadata": {
        "colab": {
          "base_uri": "https://localhost:8080/"
        },
        "id": "C3fxSgy9510h",
        "outputId": "00da2733-e3e0-4fed-aeb9-7aadac7fc0e7"
      },
      "outputs": [
        {
          "output_type": "stream",
          "name": "stdout",
          "text": [
            "Collecting dataanalysts\n",
            "  Downloading dataanalysts-2.1.0-py3-none-any.whl.metadata (22 kB)\n",
            "Requirement already satisfied: pandas in /usr/local/lib/python3.11/dist-packages (from dataanalysts) (2.2.2)\n",
            "Requirement already satisfied: numpy in /usr/local/lib/python3.11/dist-packages (from dataanalysts) (1.26.4)\n",
            "Requirement already satisfied: matplotlib in /usr/local/lib/python3.11/dist-packages (from dataanalysts) (3.10.0)\n",
            "Requirement already satisfied: scikit-learn in /usr/local/lib/python3.11/dist-packages (from dataanalysts) (1.6.1)\n",
            "Requirement already satisfied: seaborn in /usr/local/lib/python3.11/dist-packages (from dataanalysts) (0.13.2)\n",
            "Requirement already satisfied: contourpy>=1.0.1 in /usr/local/lib/python3.11/dist-packages (from matplotlib->dataanalysts) (1.3.1)\n",
            "Requirement already satisfied: cycler>=0.10 in /usr/local/lib/python3.11/dist-packages (from matplotlib->dataanalysts) (0.12.1)\n",
            "Requirement already satisfied: fonttools>=4.22.0 in /usr/local/lib/python3.11/dist-packages (from matplotlib->dataanalysts) (4.55.8)\n",
            "Requirement already satisfied: kiwisolver>=1.3.1 in /usr/local/lib/python3.11/dist-packages (from matplotlib->dataanalysts) (1.4.8)\n",
            "Requirement already satisfied: packaging>=20.0 in /usr/local/lib/python3.11/dist-packages (from matplotlib->dataanalysts) (24.2)\n",
            "Requirement already satisfied: pillow>=8 in /usr/local/lib/python3.11/dist-packages (from matplotlib->dataanalysts) (11.1.0)\n",
            "Requirement already satisfied: pyparsing>=2.3.1 in /usr/local/lib/python3.11/dist-packages (from matplotlib->dataanalysts) (3.2.1)\n",
            "Requirement already satisfied: python-dateutil>=2.7 in /usr/local/lib/python3.11/dist-packages (from matplotlib->dataanalysts) (2.8.2)\n",
            "Requirement already satisfied: pytz>=2020.1 in /usr/local/lib/python3.11/dist-packages (from pandas->dataanalysts) (2025.1)\n",
            "Requirement already satisfied: tzdata>=2022.7 in /usr/local/lib/python3.11/dist-packages (from pandas->dataanalysts) (2025.1)\n",
            "Requirement already satisfied: scipy>=1.6.0 in /usr/local/lib/python3.11/dist-packages (from scikit-learn->dataanalysts) (1.13.1)\n",
            "Requirement already satisfied: joblib>=1.2.0 in /usr/local/lib/python3.11/dist-packages (from scikit-learn->dataanalysts) (1.4.2)\n",
            "Requirement already satisfied: threadpoolctl>=3.1.0 in /usr/local/lib/python3.11/dist-packages (from scikit-learn->dataanalysts) (3.5.0)\n",
            "Requirement already satisfied: six>=1.5 in /usr/local/lib/python3.11/dist-packages (from python-dateutil>=2.7->matplotlib->dataanalysts) (1.17.0)\n",
            "Downloading dataanalysts-2.1.0-py3-none-any.whl (16 kB)\n",
            "Installing collected packages: dataanalysts\n",
            "Successfully installed dataanalysts-2.1.0\n"
          ]
        }
      ],
      "source": [
        "!pip install dataanalysts"
      ]
    },
    {
      "cell_type": "markdown",
      "source": [
        "# **Regular Format**"
      ],
      "metadata": {
        "id": "3wzC__jf7Y2F"
      }
    },
    {
      "cell_type": "code",
      "source": [
        "import pandas as pd\n",
        "\n",
        "# Load dataset\n",
        "df = pd.read_excel(\"/content/ecommerce_sales_data.xlsx\")\n",
        "\n",
        "# Check dataset structure\n",
        "df.info()"
      ],
      "metadata": {
        "colab": {
          "base_uri": "https://localhost:8080/"
        },
        "id": "R5V7diZU5-Oq",
        "outputId": "11f3e2f2-76f7-47bb-ff0f-4239bcaf7acc"
      },
      "execution_count": 5,
      "outputs": [
        {
          "output_type": "stream",
          "name": "stdout",
          "text": [
            "<class 'pandas.core.frame.DataFrame'>\n",
            "RangeIndex: 1000 entries, 0 to 999\n",
            "Data columns (total 9 columns):\n",
            " #   Column            Non-Null Count  Dtype         \n",
            "---  ------            --------------  -----         \n",
            " 0   Customer_ID       1000 non-null   object        \n",
            " 1   Purchase_Date     1000 non-null   datetime64[ns]\n",
            " 2   Product_Category  1000 non-null   object        \n",
            " 3   Purchase_Amount   1000 non-null   float64       \n",
            " 4   Customer_Age      1000 non-null   int64         \n",
            " 5   Location          1000 non-null   object        \n",
            " 6   Gender            1000 non-null   object        \n",
            " 7   Total_Purchases   1000 non-null   int64         \n",
            " 8   Discount_Applied  1000 non-null   float64       \n",
            "dtypes: datetime64[ns](1), float64(2), int64(2), object(4)\n",
            "memory usage: 70.4+ KB\n"
          ]
        }
      ]
    },
    {
      "cell_type": "markdown",
      "source": [
        "**1. Handling Missing Values**"
      ],
      "metadata": {
        "id": "tgCVSOkv8x8Z"
      }
    },
    {
      "cell_type": "code",
      "source": [
        "# Filling missing values with median for numerical columns\n",
        "df[\"Purchase_Amount\"] = df[\"Purchase_Amount\"].fillna(df[\"Purchase_Amount\"].median())\n",
        "df[\"Customer_Age\"] = df[\"Customer_Age\"].fillna(df[\"Customer_Age\"].median())\n",
        "\n",
        "# Filling missing values with mode for categorical columns\n",
        "df[\"Gender\"] = df[\"Gender\"].fillna(df[\"Gender\"].mode()[0])\n",
        "df[\"Location\"] = df[\"Location\"].fillna(df[\"Location\"].mode()[0])\n",
        "\n",
        "print(df)"
      ],
      "metadata": {
        "colab": {
          "base_uri": "https://localhost:8080/"
        },
        "id": "BJohYUjB8wjK",
        "outputId": "5d7c0e2b-f596-4d09-cc22-249551ceaa66"
      },
      "execution_count": 12,
      "outputs": [
        {
          "output_type": "stream",
          "name": "stdout",
          "text": [
            "                              Customer_ID Purchase_Date Product_Category  \\\n",
            "0    9bd5903d-5f17-4072-adf2-7f155a86b79f    2023-11-19           Sports   \n",
            "1    6810dc95-53af-40e0-a7cd-a6e43adcbbd2    2023-02-24         Clothing   \n",
            "2    491c5e10-a077-4032-aa69-38b90b64ff18    2023-11-03           Beauty   \n",
            "3    50d2977c-c438-4584-ae73-6b130f884c01    2024-10-29   Home & Kitchen   \n",
            "4    201cf635-b2c7-4735-b13c-b4d7c57dd331    2024-12-30      Electronics   \n",
            "..                                    ...           ...              ...   \n",
            "995  1b0ec21b-9687-4de4-b97b-cade611e9272    2024-12-13            Books   \n",
            "996  ef328cb2-579d-4078-b454-000d2d2e30d1    2024-04-29      Electronics   \n",
            "997  fb2ced32-2c33-463f-a438-e939e601b1ab    2024-07-12         Clothing   \n",
            "998  05b6d5ac-70ed-4de9-812c-156b41a09129    2024-09-26   Home & Kitchen   \n",
            "999  5a8edbe1-1b8a-4979-aef7-f0d4e500d1d3    2024-09-05           Sports   \n",
            "\n",
            "     Purchase_Amount  Customer_Age            Location Gender  \\\n",
            "0             349.15            50   Lake Patriciatown      M   \n",
            "1             297.66            39           Kochhaven      M   \n",
            "2             501.54            69       Jordanborough      M   \n",
            "3             712.87            68  Lake Frederickland      M   \n",
            "4             210.40            36          Jacobshire      M   \n",
            "..               ...           ...                 ...    ...   \n",
            "995           250.31            21     South Hunterton      F   \n",
            "996           380.45            67        Campbellstad      F   \n",
            "997           595.44            58    Port Robertburgh      F   \n",
            "998           723.74            66          North Paul      F   \n",
            "999           509.36            39       New Alejandro      M   \n",
            "\n",
            "     Total_Purchases  Discount_Applied  \n",
            "0                 40             19.60  \n",
            "1                 13             18.23  \n",
            "2                 41             23.84  \n",
            "3                 25             32.95  \n",
            "4                 22             48.23  \n",
            "..               ...               ...  \n",
            "995               43             19.32  \n",
            "996               26              8.33  \n",
            "997               30             12.10  \n",
            "998               31             18.78  \n",
            "999               24              3.26  \n",
            "\n",
            "[1000 rows x 9 columns]\n"
          ]
        }
      ]
    },
    {
      "cell_type": "markdown",
      "source": [
        "**2. Removing Duplicates**"
      ],
      "metadata": {
        "id": "LVczFw69-WUM"
      }
    },
    {
      "cell_type": "code",
      "source": [
        "df.drop_duplicates(inplace=True)"
      ],
      "metadata": {
        "id": "WtO4RH4n-Zm0"
      },
      "execution_count": 14,
      "outputs": []
    },
    {
      "cell_type": "markdown",
      "source": [
        "**3. Fixing Data Types**"
      ],
      "metadata": {
        "id": "Us0lr2Et-5-K"
      }
    },
    {
      "cell_type": "code",
      "source": [
        "df[\"Purchase_Date\"] = pd.to_datetime(df[\"Purchase_Date\"])\n",
        "df[\"Purchase_Amount\"] = df[\"Purchase_Amount\"].astype(float)\n",
        "df[\"Customer_Age\"] = df[\"Customer_Age\"].astype(int)"
      ],
      "metadata": {
        "id": "cS-yCAU6_Fen"
      },
      "execution_count": 17,
      "outputs": []
    },
    {
      "cell_type": "markdown",
      "source": [
        "**4. Data Visualization**"
      ],
      "metadata": {
        "id": "tdzhEpRr_jSC"
      }
    },
    {
      "cell_type": "code",
      "source": [
        "import matplotlib.pyplot as plt\n",
        "\n",
        "plt.hist(df[\"Purchase_Amount\"], bins=20, color=\"skyblue\", edgecolor=\"black\")\n",
        "plt.xlabel(\"Purchase Amount\")\n",
        "plt.ylabel(\"Frequency\")\n",
        "plt.title(\"Purchase Amount Distribution\")\n",
        "plt.show()"
      ],
      "metadata": {
        "colab": {
          "base_uri": "https://localhost:8080/",
          "height": 472
        },
        "id": "-5bL1RT-_lYB",
        "outputId": "a3788dbf-2a9b-40ff-cd5c-8cd66f1e339d"
      },
      "execution_count": 21,
      "outputs": [
        {
          "output_type": "display_data",
          "data": {
            "text/plain": [
              "<Figure size 640x480 with 1 Axes>"
            ],
            "image/png": "[encoded data removed]"
          },
          "metadata": {}
        }
      ]
    },
    {
      "cell_type": "markdown",
      "source": [
        "# **dataanalysts library format**"
      ],
      "metadata": {
        "id": "zXY_a95R7wGE"
      }
    },
    {
      "cell_type": "code",
      "source": [
        "import dataanalysts as da\n",
        "\n",
        "# Load dataset using DataAnalysts\n",
        "df = da.excel(\"/content/ecommerce_sales_data.xlsx\")\n",
        "\n",
        "# Quick summary of dataset\n",
        "da.summary(df)"
      ],
      "metadata": {
        "colab": {
          "base_uri": "https://localhost:8080/",
          "height": 383
        },
        "id": "DPTW3jM87152",
        "outputId": "993a4063-c460-493f-b9f7-4e46e62854ed"
      },
      "execution_count": 7,
      "outputs": [
        {
          "output_type": "stream",
          "name": "stdout",
          "text": [
            "✅ Excel file '/content/ecommerce_sales_data.xlsx' loaded successfully from sheet '0'.\n"
          ]
        },
        {
          "output_type": "execute_result",
          "data": {
            "text/plain": [
              "             Column       Data Type  Non-Null Count  Unique Values    Min  \\\n",
              "0       Customer_ID          object            1000           1000    NaN   \n",
              "1     Purchase_Date  datetime64[ns]            1000            550    NaN   \n",
              "2  Product_Category          object            1000              7    NaN   \n",
              "3   Purchase_Amount         float64            1000            992  10.25   \n",
              "4      Customer_Age           int64            1000             57  18.00   \n",
              "5          Location          object            1000            961    NaN   \n",
              "6            Gender          object            1000              2    NaN   \n",
              "7   Total_Purchases           int64            1000             49   1.00   \n",
              "8  Discount_Applied         float64            1000            911   0.00   \n",
              "\n",
              "      Max       Mean   Median                                   Top  Frequency  \n",
              "0     NaN        NaN      NaN  0001dba9-a19c-4ac8-b768-e1437cbcb0e0        1.0  \n",
              "1     NaN        NaN      NaN                                  None        NaN  \n",
              "2     NaN        NaN      NaN                                Sports      156.0  \n",
              "3  999.96  499.54912  498.085                                  None        NaN  \n",
              "4   74.00   46.54600   47.000                                  None        NaN  \n",
              "5     NaN        NaN      NaN                          West Michael        4.0  \n",
              "6     NaN        NaN      NaN                                     M      517.0  \n",
              "7   49.00   24.56000   24.000                                  None        NaN  \n",
              "8   49.98   25.17913   26.050                                  None        NaN  "
            ],
            "text/html": [
              "\n",
              "  <div id=\"df-85a09edd-a2c4-45a6-bf9e-009aec1c1612\" class=\"colab-df-container\">\n",
              "    <div>\n",
              "<style scoped>\n",
              "    .dataframe tbody tr th:only-of-type {\n",
              "        vertical-align: middle;\n",
              "    }\n",
              "\n",
              "    .dataframe tbody tr th {\n",
              "        vertical-align: top;\n",
              "    }\n",
              "\n",
              "    .dataframe thead th {\n",
              "        text-align: right;\n",
              "    }\n",
              "</style>\n",
              "<table border=\"1\" class=\"dataframe\">\n",
              "  <thead>\n",
              "    <tr style=\"text-align: right;\">\n",
              "      <th></th>\n",
              "      <th>Column</th>\n",
              "      <th>Data Type</th>\n",
              "      <th>Non-Null Count</th>\n",
              "      <th>Unique Values</th>\n",
              "      <th>Min</th>\n",
              "      <th>Max</th>\n",
              "      <th>Mean</th>\n",
              "      <th>Median</th>\n",
              "      <th>Top</th>\n",
              "      <th>Frequency</th>\n",
              "    </tr>\n",
              "  </thead>\n",
              "  <tbody>\n",
              "    <tr>\n",
              "      <th>0</th>\n",
              "      <td>Customer_ID</td>\n",
              "      <td>object</td>\n",
              "      <td>1000</td>\n",
              "      <td>1000</td>\n",
              "      <td>NaN</td>\n",
              "      <td>NaN</td>\n",
              "      <td>NaN</td>\n",
              "      <td>NaN</td>\n",
              "      <td>0001dba9-a19c-4ac8-b768-e1437cbcb0e0</td>\n",
              "      <td>1.0</td>\n",
              "    </tr>\n",
              "    <tr>\n",
              "      <th>1</th>\n",
              "      <td>Purchase_Date</td>\n",
              "      <td>datetime64[ns]</td>\n",
              "      <td>1000</td>\n",
              "      <td>550</td>\n",
              "      <td>NaN</td>\n",
              "      <td>NaN</td>\n",
              "      <td>NaN</td>\n",
              "      <td>NaN</td>\n",
              "      <td>None</td>\n",
              "      <td>NaN</td>\n",
              "    </tr>\n",
              "    <tr>\n",
              "      <th>2</th>\n",
              "      <td>Product_Category</td>\n",
              "      <td>object</td>\n",
              "      <td>1000</td>\n",
              "      <td>7</td>\n",
              "      <td>NaN</td>\n",
              "      <td>NaN</td>\n",
              "      <td>NaN</td>\n",
              "      <td>NaN</td>\n",
              "      <td>Sports</td>\n",
              "      <td>156.0</td>\n",
              "    </tr>\n",
              "    <tr>\n",
              "      <th>3</th>\n",
              "      <td>Purchase_Amount</td>\n",
              "      <td>float64</td>\n",
              "      <td>1000</td>\n",
              "      <td>992</td>\n",
              "      <td>10.25</td>\n",
              "      <td>999.96</td>\n",
              "      <td>499.54912</td>\n",
              "      <td>498.085</td>\n",
              "      <td>None</td>\n",
              "      <td>NaN</td>\n",
              "    </tr>\n",
              "    <tr>\n",
              "      <th>4</th>\n",
              "      <td>Customer_Age</td>\n",
              "      <td>int64</td>\n",
              "      <td>1000</td>\n",
              "      <td>57</td>\n",
              "      <td>18.00</td>\n",
              "      <td>74.00</td>\n",
              "      <td>46.54600</td>\n",
              "      <td>47.000</td>\n",
              "      <td>None</td>\n",
              "      <td>NaN</td>\n",
              "    </tr>\n",
              "    <tr>\n",
              "      <th>5</th>\n",
              "      <td>Location</td>\n",
              "      <td>object</td>\n",
              "      <td>1000</td>\n",
              "      <td>961</td>\n",
              "      <td>NaN</td>\n",
              "      <td>NaN</td>\n",
              "      <td>NaN</td>\n",
              "      <td>NaN</td>\n",
              "      <td>West Michael</td>\n",
              "      <td>4.0</td>\n",
              "    </tr>\n",
              "    <tr>\n",
              "      <th>6</th>\n",
              "      <td>Gender</td>\n",
              "      <td>object</td>\n",
              "      <td>1000</td>\n",
              "      <td>2</td>\n",
              "      <td>NaN</td>\n",
              "      <td>NaN</td>\n",
              "      <td>NaN</td>\n",
              "      <td>NaN</td>\n",
              "      <td>M</td>\n",
              "      <td>517.0</td>\n",
              "    </tr>\n",
              "    <tr>\n",
              "      <th>7</th>\n",
              "      <td>Total_Purchases</td>\n",
              "      <td>int64</td>\n",
              "      <td>1000</td>\n",
              "      <td>49</td>\n",
              "      <td>1.00</td>\n",
              "      <td>49.00</td>\n",
              "      <td>24.56000</td>\n",
              "      <td>24.000</td>\n",
              "      <td>None</td>\n",
              "      <td>NaN</td>\n",
              "    </tr>\n",
              "    <tr>\n",
              "      <th>8</th>\n",
              "      <td>Discount_Applied</td>\n",
              "      <td>float64</td>\n",
              "      <td>1000</td>\n",
              "      <td>911</td>\n",
              "      <td>0.00</td>\n",
              "      <td>49.98</td>\n",
              "      <td>25.17913</td>\n",
              "      <td>26.050</td>\n",
              "      <td>None</td>\n",
              "      <td>NaN</td>\n",
              "    </tr>\n",
              "  </tbody>\n",
              "</table>\n",
              "</div>\n",
              "    <div class=\"colab-df-buttons\">\n",
              "\n",
              "  <div class=\"colab-df-container\">\n",
              "    <button class=\"colab-df-convert\" onclick=\"convertToInteractive('df-85a09edd-a2c4-45a6-bf9e-009aec1c1612')\"\n",
              "            title=\"Convert this dataframe to an interactive table.\"\n",
              "            style=\"display:none;\">\n",
              "\n",
              "  <svg xmlns=\"http://www.w3.org/2000/svg\" height=\"24px\" viewBox=\"0 -960 960 960\">\n",
              "    <path d=\"M120-120v-720h720v720H120Zm60-500h600v-160H180v160Zm220 220h160v-160H400v160Zm0 220h160v-160H400v160ZM180-400h160v-160H180v160Zm440 0h160v-160H620v160ZM180-180h160v-160H180v160Zm440 0h160v-160H620v160Z\"/>\n",
              "  </svg>\n",
              "    </button>\n",
              "\n",
              "  <style>\n",
              "    .colab-df-container {\n",
              "      display:flex;\n",
              "      gap: 12px;\n",
              "    }\n",
              "\n",
              "    .colab-df-convert {\n",
              "      background-color: #E8F0FE;\n",
              "      border: none;\n",
              "      border-radius: 50%;\n",
              "      cursor: pointer;\n",
              "      display: none;\n",
              "      fill: #1967D2;\n",
              "      height: 32px;\n",
              "      padding: 0 0 0 0;\n",
              "      width: 32px;\n",
              "    }\n",
              "\n",
              "    .colab-df-convert:hover {\n",
              "      background-color: #E2EBFA;\n",
              "      box-shadow: 0px 1px 2px rgba(60, 64, 67, 0.3), 0px 1px 3px 1px rgba(60, 64, 67, 0.15);\n",
              "      fill: #174EA6;\n",
              "    }\n",
              "\n",
              "    .colab-df-buttons div {\n",
              "      margin-bottom: 4px;\n",
              "    }\n",
              "\n",
              "    [theme=dark] .colab-df-convert {\n",
              "      background-color: #3B4455;\n",
              "      fill: #D2E3FC;\n",
              "    }\n",
              "\n",
              "    [theme=dark] .colab-df-convert:hover {\n",
              "      background-color: #434B5C;\n",
              "      box-shadow: 0px 1px 3px 1px rgba(0, 0, 0, 0.15);\n",
              "      filter: drop-shadow(0px 1px 2px rgba(0, 0, 0, 0.3));\n",
              "      fill: #FFFFFF;\n",
              "    }\n",
              "  </style>\n",
              "\n",
              "    <script>\n",
              "      const buttonEl =\n",
              "        document.querySelector('#df-85a09edd-a2c4-45a6-bf9e-009aec1c1612 button.colab-df-convert');\n",
              "      buttonEl.style.display =\n",
              "        google.colab.kernel.accessAllowed ? 'block' : 'none';\n",
              "\n",
              "      async function convertToInteractive(key) {\n",
              "        const element = document.querySelector('#df-85a09edd-a2c4-45a6-bf9e-009aec1c1612');\n",
              "        const dataTable =\n",
              "          await google.colab.kernel.invokeFunction('convertToInteractive',\n",
              "                                                    [key], {});\n",
              "        if (!dataTable) return;\n",
              "\n",
              "        const docLinkHtml = 'Like what you see? Visit the ' +\n",
              "          '<a target=\"_blank\" href=https://colab.research.google.com/notebooks/data_table.ipynb>data table notebook</a>'\n",
              "          + ' to learn more about interactive tables.';\n",
              "        element.innerHTML = '';\n",
              "        dataTable['output_type'] = 'display_data';\n",
              "        await google.colab.output.renderOutput(dataTable, element);\n",
              "        const docLink = document.createElement('div');\n",
              "        docLink.innerHTML = docLinkHtml;\n",
              "        element.appendChild(docLink);\n",
              "      }\n",
              "    </script>\n",
              "  </div>\n",
              "\n",
              "\n",
              "<div id=\"df-445c9d98-0e1b-4aec-938a-6c9778ede35a\">\n",
              "  <button class=\"colab-df-quickchart\" onclick=\"quickchart('df-445c9d98-0e1b-4aec-938a-6c9778ede35a')\"\n",
              "            title=\"Suggest charts\"\n",
              "            style=\"display:none;\">\n",
              "\n",
              "<svg xmlns=\"http://www.w3.org/2000/svg\" height=\"24px\"viewBox=\"0 0 24 24\"\n",
              "     width=\"24px\">\n",
              "    <g>\n",
              "        <path d=\"M19 3H5c-1.1 0-2 .9-2 2v14c0 1.1.9 2 2 2h14c1.1 0 2-.9 2-2V5c0-1.1-.9-2-2-2zM9 17H7v-7h2v7zm4 0h-2V7h2v10zm4 0h-2v-4h2v4z\"/>\n",
              "    </g>\n",
              "</svg>\n",
              "  </button>\n",
              "\n",
              "<style>\n",
              "  .colab-df-quickchart {\n",
              "      --bg-color: #E8F0FE;\n",
              "      --fill-color: #1967D2;\n",
              "      --hover-bg-color: #E2EBFA;\n",
              "      --hover-fill-color: #174EA6;\n",
              "      --disabled-fill-color: #AAA;\n",
              "      --disabled-bg-color: #DDD;\n",
              "  }\n",
              "\n",
              "  [theme=dark] .colab-df-quickchart {\n",
              "      --bg-color: #3B4455;\n",
              "      --fill-color: #D2E3FC;\n",
              "      --hover-bg-color: #434B5C;\n",
              "      --hover-fill-color: #FFFFFF;\n",
              "      --disabled-bg-color: #3B4455;\n",
              "      --disabled-fill-color: #666;\n",
              "  }\n",
              "\n",
              "  .colab-df-quickchart {\n",
              "    background-color: var(--bg-color);\n",
              "    border: none;\n",
              "    border-radius: 50%;\n",
              "    cursor: pointer;\n",
              "    display: none;\n",
              "    fill: var(--fill-color);\n",
              "    height: 32px;\n",
              "    padding: 0;\n",
              "    width: 32px;\n",
              "  }\n",
              "\n",
              "  .colab-df-quickchart:hover {\n",
              "    background-color: var(--hover-bg-color);\n",
              "    box-shadow: 0 1px 2px rgba(60, 64, 67, 0.3), 0 1px 3px 1px rgba(60, 64, 67, 0.15);\n",
              "    fill: var(--button-hover-fill-color);\n",
              "  }\n",
              "\n",
              "  .colab-df-quickchart-complete:disabled,\n",
              "  .colab-df-quickchart-complete:disabled:hover {\n",
              "    background-color: var(--disabled-bg-color);\n",
              "    fill: var(--disabled-fill-color);\n",
              "    box-shadow: none;\n",
              "  }\n",
              "\n",
              "  .colab-df-spinner {\n",
              "    border: 2px solid var(--fill-color);\n",
              "    border-color: transparent;\n",
              "    border-bottom-color: var(--fill-color);\n",
              "    animation:\n",
              "      spin 1s steps(1) infinite;\n",
              "  }\n",
              "\n",
              "  @keyframes spin {\n",
              "    0% {\n",
              "      border-color: transparent;\n",
              "      border-bottom-color: var(--fill-color);\n",
              "      border-left-color: var(--fill-color);\n",
              "    }\n",
              "    20% {\n",
              "      border-color: transparent;\n",
              "      border-left-color: var(--fill-color);\n",
              "      border-top-color: var(--fill-color);\n",
              "    }\n",
              "    30% {\n",
              "      border-color: transparent;\n",
              "      border-left-color: var(--fill-color);\n",
              "      border-top-color: var(--fill-color);\n",
              "      border-right-color: var(--fill-color);\n",
              "    }\n",
              "    40% {\n",
              "      border-color: transparent;\n",
              "      border-right-color: var(--fill-color);\n",
              "      border-top-color: var(--fill-color);\n",
              "    }\n",
              "    60% {\n",
              "      border-color: transparent;\n",
              "      border-right-color: var(--fill-color);\n",
              "    }\n",
              "    80% {\n",
              "      border-color: transparent;\n",
              "      border-right-color: var(--fill-color);\n",
              "      border-bottom-color: var(--fill-color);\n",
              "    }\n",
              "    90% {\n",
              "      border-color: transparent;\n",
              "      border-bottom-color: var(--fill-color);\n",
              "    }\n",
              "  }\n",
              "</style>\n",
              "\n",
              "  <script>\n",
              "    async function quickchart(key) {\n",
              "      const quickchartButtonEl =\n",
              "        document.querySelector('#' + key + ' button');\n",
              "      quickchartButtonEl.disabled = true;  // To prevent multiple clicks.\n",
              "      quickchartButtonEl.classList.add('colab-df-spinner');\n",
              "      try {\n",
              "        const charts = await google.colab.kernel.invokeFunction(\n",
              "            'suggestCharts', [key], {});\n",
              "      } catch (error) {\n",
              "        console.error('Error during call to suggestCharts:', error);\n",
              "      }\n",
              "      quickchartButtonEl.classList.remove('colab-df-spinner');\n",
              "      quickchartButtonEl.classList.add('colab-df-quickchart-complete');\n",
              "    }\n",
              "    (() => {\n",
              "      let quickchartButtonEl =\n",
              "        document.querySelector('#df-445c9d98-0e1b-4aec-938a-6c9778ede35a button');\n",
              "      quickchartButtonEl.style.display =\n",
              "        google.colab.kernel.accessAllowed ? 'block' : 'none';\n",
              "    })();\n",
              "  </script>\n",
              "</div>\n",
              "\n",
              "    </div>\n",
              "  </div>\n"
            ],
            "application/vnd.google.colaboratory.intrinsic+json": {
              "type": "dataframe",
              "summary": "{\n  \"name\": \"da\",\n  \"rows\": 9,\n  \"fields\": [\n    {\n      \"column\": \"Column\",\n      \"properties\": {\n        \"dtype\": \"string\",\n        \"num_unique_values\": 9,\n        \"samples\": [\n          \"Total_Purchases\",\n          \"Purchase_Date\",\n          \"Location\"\n        ],\n        \"semantic_type\": \"\",\n        \"description\": \"\"\n      }\n    },\n    {\n      \"column\": \"Data Type\",\n      \"properties\": {\n        \"dtype\": \"category\",\n        \"num_unique_values\": 4,\n        \"samples\": [\n          \"datetime64[ns]\",\n          \"int64\",\n          \"object\"\n        ],\n        \"semantic_type\": \"\",\n        \"description\": \"\"\n      }\n    },\n    {\n      \"column\": \"Non-Null Count\",\n      \"properties\": {\n        \"dtype\": \"number\",\n        \"std\": 0,\n        \"min\": 1000,\n        \"max\": 1000,\n        \"num_unique_values\": 1,\n        \"samples\": [\n          1000\n        ],\n        \"semantic_type\": \"\",\n        \"description\": \"\"\n      }\n    },\n    {\n      \"column\": \"Unique Values\",\n      \"properties\": {\n        \"dtype\": \"number\",\n        \"std\": 469,\n        \"min\": 2,\n        \"max\": 1000,\n        \"num_unique_values\": 9,\n        \"samples\": [\n          49\n        ],\n        \"semantic_type\": \"\",\n        \"description\": \"\"\n      }\n    },\n    {\n      \"column\": \"Min\",\n      \"properties\": {\n        \"dtype\": \"number\",\n        \"std\": 8.488656646764944,\n        \"min\": 0.0,\n        \"max\": 18.0,\n        \"num_unique_values\": 4,\n        \"samples\": [\n          18.0\n        ],\n        \"semantic_type\": \"\",\n        \"description\": \"\"\n      }\n    },\n    {\n      \"column\": \"Max\",\n      \"properties\": {\n        \"dtype\": \"number\",\n        \"std\": 471.2918208145211,\n        \"min\": 49.0,\n        \"max\": 999.96,\n        \"num_unique_values\": 4,\n        \"samples\": [\n          74.0\n        ],\n        \"semantic_type\": \"\",\n        \"description\": \"\"\n      }\n    },\n    {\n      \"column\": \"Mean\",\n      \"properties\": {\n        \"dtype\": \"number\",\n        \"std\": 233.95043793366838,\n        \"min\": 24.56,\n        \"max\": 499.54912,\n        \"num_unique_values\": 4,\n        \"samples\": [\n          46.546\n        ],\n        \"semantic_type\": \"\",\n        \"description\": \"\"\n      }\n    },\n    {\n      \"column\": \"Median\",\n      \"properties\": {\n        \"dtype\": \"number\",\n        \"std\": 233.09930120641005,\n        \"min\": 24.0,\n        \"max\": 498.08500000000004,\n        \"num_unique_values\": 4,\n        \"samples\": [\n          47.0\n        ],\n        \"semantic_type\": \"\",\n        \"description\": \"\"\n      }\n    },\n    {\n      \"column\": \"Top\",\n      \"properties\": {\n        \"dtype\": \"category\",\n        \"num_unique_values\": 4,\n        \"samples\": [\n          \"Sports\"\n        ],\n        \"semantic_type\": \"\",\n        \"description\": \"\"\n      }\n    },\n    {\n      \"column\": \"Frequency\",\n      \"properties\": {\n        \"dtype\": \"number\",\n        \"std\": 242.70764306053488,\n        \"min\": 1.0,\n        \"max\": 517.0,\n        \"num_unique_values\": 4,\n        \"samples\": [\n          156.0\n        ],\n        \"semantic_type\": \"\",\n        \"description\": \"\"\n      }\n    }\n  ]\n}"
            }
          },
          "metadata": {},
          "execution_count": 7
        }
      ]
    },
    {
      "cell_type": "markdown",
      "source": [
        "**1. Handling Missing Values**"
      ],
      "metadata": {
        "id": "O_o29thd8KZz"
      }
    },
    {
      "cell_type": "code",
      "source": [
        "df = da.clean(df, strategy=\"handle_missing\", missing_strategy=\"median\")\n",
        "print(df)"
      ],
      "metadata": {
        "colab": {
          "base_uri": "https://localhost:8080/"
        },
        "id": "VIBLHLGr-HJU",
        "outputId": "e6b5e42b-44de-4064-d72d-fb95255de686"
      },
      "execution_count": 13,
      "outputs": [
        {
          "output_type": "stream",
          "name": "stdout",
          "text": [
            "Filled missing values using mean strategy.\n",
            "                              Customer_ID Purchase_Date Product_Category  \\\n",
            "0    9bd5903d-5f17-4072-adf2-7f155a86b79f    2023-11-19           Sports   \n",
            "1    6810dc95-53af-40e0-a7cd-a6e43adcbbd2    2023-02-24         Clothing   \n",
            "2    491c5e10-a077-4032-aa69-38b90b64ff18    2023-11-03           Beauty   \n",
            "3    50d2977c-c438-4584-ae73-6b130f884c01    2024-10-29   Home & Kitchen   \n",
            "4    201cf635-b2c7-4735-b13c-b4d7c57dd331    2024-12-30      Electronics   \n",
            "..                                    ...           ...              ...   \n",
            "995  1b0ec21b-9687-4de4-b97b-cade611e9272    2024-12-13            Books   \n",
            "996  ef328cb2-579d-4078-b454-000d2d2e30d1    2024-04-29      Electronics   \n",
            "997  fb2ced32-2c33-463f-a438-e939e601b1ab    2024-07-12         Clothing   \n",
            "998  05b6d5ac-70ed-4de9-812c-156b41a09129    2024-09-26   Home & Kitchen   \n",
            "999  5a8edbe1-1b8a-4979-aef7-f0d4e500d1d3    2024-09-05           Sports   \n",
            "\n",
            "     Purchase_Amount  Customer_Age            Location Gender  \\\n",
            "0             349.15            50   Lake Patriciatown      M   \n",
            "1             297.66            39           Kochhaven      M   \n",
            "2             501.54            69       Jordanborough      M   \n",
            "3             712.87            68  Lake Frederickland      M   \n",
            "4             210.40            36          Jacobshire      M   \n",
            "..               ...           ...                 ...    ...   \n",
            "995           250.31            21     South Hunterton      F   \n",
            "996           380.45            67        Campbellstad      F   \n",
            "997           595.44            58    Port Robertburgh      F   \n",
            "998           723.74            66          North Paul      F   \n",
            "999           509.36            39       New Alejandro      M   \n",
            "\n",
            "     Total_Purchases  Discount_Applied  \n",
            "0                 40             19.60  \n",
            "1                 13             18.23  \n",
            "2                 41             23.84  \n",
            "3                 25             32.95  \n",
            "4                 22             48.23  \n",
            "..               ...               ...  \n",
            "995               43             19.32  \n",
            "996               26              8.33  \n",
            "997               30             12.10  \n",
            "998               31             18.78  \n",
            "999               24              3.26  \n",
            "\n",
            "[1000 rows x 9 columns]\n"
          ]
        }
      ]
    },
    {
      "cell_type": "markdown",
      "source": [
        "**2. Removing Duplicates**"
      ],
      "metadata": {
        "id": "L6lZTFQY-iCQ"
      }
    },
    {
      "cell_type": "code",
      "source": [
        "df = da.clean(df, strategy=\"remove_duplicates\")"
      ],
      "metadata": {
        "colab": {
          "base_uri": "https://localhost:8080/"
        },
        "id": "8LYhtoIo-k0z",
        "outputId": "1b670cf3-3070-46cb-f462-29f5516d0f51"
      },
      "execution_count": 15,
      "outputs": [
        {
          "output_type": "stream",
          "name": "stdout",
          "text": [
            "Removed 0 duplicate rows.\n"
          ]
        }
      ]
    },
    {
      "cell_type": "markdown",
      "source": [
        "**3. Fixing Data Types**"
      ],
      "metadata": {
        "id": "-BMB3kwq_GlM"
      }
    },
    {
      "cell_type": "code",
      "source": [
        "df = da.clean(df, strategy=\"convert_dtype\", column=\"Purchase_Amount\", dtype=\"float\")\n",
        "df = da.clean(df, strategy=\"convert_dtype\", column=\"Customer_Age\", dtype=\"int\")"
      ],
      "metadata": {
        "colab": {
          "base_uri": "https://localhost:8080/"
        },
        "id": "WBKyAbjv_IEM",
        "outputId": "f4dab9d0-1bfb-4d44-fbc3-bb893335319a"
      },
      "execution_count": 20,
      "outputs": [
        {
          "output_type": "stream",
          "name": "stdout",
          "text": [
            "Converted column Purchase_Amount to data type float.\n",
            "Converted column Customer_Age to data type int.\n"
          ]
        }
      ]
    },
    {
      "cell_type": "markdown",
      "source": [
        "**4. Data Visualization**"
      ],
      "metadata": {
        "id": "30n86uLd_rwX"
      }
    },
    {
      "cell_type": "code",
      "source": [
        "da.histogram(df, column=\"Purchase_Amount\", bins=20)"
      ],
      "metadata": {
        "colab": {
          "base_uri": "https://localhost:8080/",
          "height": 572
        },
        "id": "CWkaA28U_wN-",
        "outputId": "438582de-54a8-4fa9-bcdb-dc29a5e680df"
      },
      "execution_count": 22,
      "outputs": [
        {
          "output_type": "display_data",
          "data": {
            "text/plain": [
              "<Figure size 1000x600 with 1 Axes>"
            ],
            "image/png": "[encoded data removed]"
          },
          "metadata": {}
        }
      ]
    }
  ]
}